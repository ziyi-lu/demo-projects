{
 "cells": [
  {
   "cell_type": "markdown",
   "metadata": {},
   "source": [
    "**This script does web scraping for user and app information based on user and app id, then prepare two dataframes for further processing.**"
   ]
  },
  {
   "cell_type": "code",
   "execution_count": 1,
   "metadata": {},
   "outputs": [
    {
     "data": {
      "text/plain": [
       "'C:\\\\Users\\\\luziy\\\\Documents\\\\datacamp\\\\notes\\\\recommendation_system\\\\projects'"
      ]
     },
     "execution_count": 1,
     "metadata": {},
     "output_type": "execute_result"
    }
   ],
   "source": [
    "import requests, time\n",
    "from bs4 import BeautifulSoup\n",
    "import json \n",
    "import pandas as pd\n",
    "import re\n",
    "import os\n",
    "import sys\n",
    "os.getcwd()"
   ]
  },
  {
   "cell_type": "code",
   "execution_count": 2,
   "metadata": {},
   "outputs": [],
   "source": [
    "# a function to show work status\n",
    "def show_work_status(singleCount, totalCount, currentCount=0):\n",
    "    currentCount += singleCount\n",
    "    percentage = 1. * currentCount / totalCount * 100\n",
    "    status =  '>' * int(percentage)  + ' ' * (100 - int(percentage))\n",
    "    sys.stdout.write('\\rStatus: [{0}] {1:.2f}% '.format(status, percentage))\n",
    "    sys.stdout.flush()\n",
    "    if percentage >= 100:\n",
    "        print('\\n')"
   ]
  },
  {
   "cell_type": "markdown",
   "metadata": {},
   "source": [
    "### 1: user data aquisition and read"
   ]
  },
  {
   "cell_type": "code",
   "execution_count": 3,
   "metadata": {},
   "outputs": [],
   "source": [
    "with open(\"..\\\\week1\\\\W1\\\\W1\\\\steam_user_id.txt\" ,\"r\" ) as stmf:\n",
    "   stmid__raw = [ line.rstrip('\\n') for line in stmf.readlines()  ]\n",
    "   stmid_lst = [x for x in stmid__raw  if len(x) != 0 ]"
   ]
  },
  {
   "cell_type": "code",
   "execution_count": 4,
   "metadata": {},
   "outputs": [
    {
     "name": "stdout",
     "output_type": "stream",
     "text": [
      "Status: [                                                                                                    ] 0.20% "
     ]
    }
   ],
   "source": [
    "api_key = '2DDBE08C80748E49571B3E6708367FEC' \n",
    "url = 'http://api.steampowered.com/IPlayerService/GetOwnedGames/v0001/'\n",
    "f = open(r'data/user_game_inventory.txt', \"a+\" ) \n",
    "\n",
    "\n",
    "total_count = len(stmid_lst)\n",
    "\n",
    "current_count = 0\n",
    "\n",
    "show_work_status( 1, total_count, current_count)\n",
    "\n",
    "start_time = time.time()\n",
    "\n",
    "# use the first 100 as illustration: \n",
    "for stmid in stmid_lst[0:10]:\n",
    "    params = {'key': api_key , 'steamid' : stmid , 'format' : 'json'}\n",
    "    r = requests.get(url, params)\n",
    "    rj = r.json()   \n",
    "    rl = rj.setdefault( 'response'  ).setdefault( 'games' )\n",
    "    user_inventory = {}\n",
    "    user_inventory['user_steam_id' ] = stmid\n",
    "    \n",
    "    if not rl:\n",
    "        user_inventory['user_game_inventory'] = None\n",
    "\n",
    "    else:\n",
    "        user_inventory['user_game_inventory'] = rl\n",
    "        \n",
    "    f.write(\"%s\\n\"  % (json.dumps(user_inventory)) )\n",
    "    \n",
    "    show_work_status(1, total_count, current_count)\n",
    "    \n",
    "    current_count += 1\n",
    "   \n",
    "    time.sleep(10)\n",
    "    \n",
    "f.close\n",
    "\n",
    "end_time = time.time()\n",
    "\n",
    "running_time = end_time - start_time"
   ]
  },
  {
   "cell_type": "code",
   "execution_count": 8,
   "metadata": {},
   "outputs": [],
   "source": [
    "with open(\"data\\\\user_game_inventory.txt\" ,\"r\" ) as invt:\n",
    "    ugg = [ line.rstrip('\\n') for line in invt.readlines()]"
   ]
  },
  {
   "cell_type": "code",
   "execution_count": 9,
   "metadata": {},
   "outputs": [],
   "source": [
    "steam_user_df = pd.DataFrame(  )\n",
    "\n",
    "for raw_string in ugg[0:10]:\n",
    "    js = json.loads(raw_string)\n",
    "    if js.get('user_game_inventory', {} ) is not None:\n",
    "        user_df = pd.DataFrame.from_dict(js.get('user_game_inventory', {} ))\n",
    "        user_df.loc[ : , \"user_id\"] = js.get('user_steam_id', {} )\n",
    "        user_df = user_df[  [\"user_id\" , \"appid\" , \"playtime_forever\"] ]\n",
    "        steam_user_df = pd.concat( [steam_user_df , user_df], axis = 0 )"
   ]
  },
  {
   "cell_type": "code",
   "execution_count": 15,
   "metadata": {},
   "outputs": [],
   "source": [
    "steam_user_df = pd.DataFrame(  )\n",
    "\n",
    "for raw_string in ugg[0:10]:\n",
    "    js = json.loads(raw_string)\n",
    "    if js.get('user_game_inventory', {} ) is not None:\n",
    "        user_df = pd.DataFrame.from_dict(js.get('user_game_inventory', {} ))\n",
    "        user_df.loc[ : , \"user_id\"] = js.get('user_steam_id', {} )\n",
    "        user_df = user_df[  [\"user_id\" , \"appid\" , \"playtime_forever\"] ]\n",
    "        steam_user_df = pd.concat( [steam_user_df , user_df], axis = 0 )"
   ]
  },
  {
   "cell_type": "code",
   "execution_count": 16,
   "metadata": {},
   "outputs": [],
   "source": [
    "steam_user_df.to_csv( r'data\\user_df_clean.csv' , header = True )"
   ]
  },
  {
   "cell_type": "markdown",
   "metadata": {},
   "source": [
    "### 2: app data aquisition and read"
   ]
  },
  {
   "cell_type": "code",
   "execution_count": 17,
   "metadata": {},
   "outputs": [],
   "source": [
    "with open(\"C:/Users/luziy/Documents/datacamp/notes/recommendation_system/week1/W1/W1/app_id.txt\" ,\"r\" ) as appf:\n",
    "   appid__raw = [ line.rstrip('\\n') for line in appf.readlines()  ]\n",
    "   appid_lst = [x for x in appid__raw  if len(x) != 0 ]"
   ]
  },
  {
   "cell_type": "code",
   "execution_count": 18,
   "metadata": {},
   "outputs": [
    {
     "name": "stdout",
     "output_type": "stream",
     "text": [
      "Status: [>>>                                                                                                 ] 3.42% "
     ]
    }
   ],
   "source": [
    "# take the first 10 as demo\n",
    "url = 'http://store.steampowered.com/api/appdetails/'\n",
    "f = open(r'data/app_detail.txt', \"a+\" ) \n",
    "total_count = len(stmid_lst)\n",
    "current_count = 161\n",
    "show_work_status( 1, total_count, current_count)\n",
    "\n",
    "start_time = time.time()\n",
    "\n",
    "for appid in appid_lst[0:10]:\n",
    "    params = [ ('appids', appid) ] \n",
    "    rr = requests.get(url, params)\n",
    "    rrj = rr.json()   \n",
    "    rrl = rrj.get(str(appid)).get('data')\n",
    "    app_info = {}\n",
    "    app_info[str(appid)] = rrl\n",
    "        \n",
    "    f.write(\"%s\\n\"  % ( json.dumps(app_info)) ) \n",
    "\n",
    "    show_work_status(1, total_count, current_count)\n",
    "    \n",
    "    current_count += 1\n",
    "    \n",
    "    time.sleep(5)\n",
    "    \n",
    "f.close\n",
    "\n",
    "end_time = time.time()\n",
    "\n",
    "running_time = end_time - start_time"
   ]
  },
  {
   "cell_type": "code",
   "execution_count": 19,
   "metadata": {},
   "outputs": [],
   "source": [
    "with open(\"data\\\\app_detail_dc.txt\" ,\"r\" ) as invt:\n",
    "    ugg = [ line.rstrip('\\n') for line in invt.readlines()]"
   ]
  },
  {
   "cell_type": "code",
   "execution_count": 20,
   "metadata": {},
   "outputs": [
    {
     "name": "stdout",
     "output_type": "stream",
     "text": [
      "Status: [>>>>>>>>>>>>>>>>>>>>>>>>>>>>>>>>>>>>>>>>>>>>>>>>>>>>>>>>>>>>>>>>>>>>>>>>>>>>>>>>>>>>>>>>>>>>        ] 92.43% "
     ]
    }
   ],
   "source": [
    "str_dict = { \"name\" : {}, \"steam_appid\" : {}, \"release_date\":{} ,   \"currency\":{}, \"price\": {}, \"discount\": {}, \"is_free\": {},  \"required_age\": {} ,  \"language\":{} ,\n",
    "            \"recommendations\": {} , \n",
    "           \"about_the_game\":{} , \"short_description\":{} , \"genres\":{}, \"windows_support\": {}, \"mac_support\" : {}, \"linux_support\": {} ,\n",
    "            \"metacritic\":{} ,  \"achievements\":{} ,  \"url\":{} , \n",
    "           \"header_image\":{} }\n",
    "\n",
    "total_count = len(ugg)\n",
    "current_count = 0\n",
    "show_work_status( 1, total_count, current_count)\n",
    "    \n",
    "# discount , platforms\n",
    "\n",
    "for raw_string in ugg:\n",
    "    js = json.loads(raw_string)\n",
    "    js1 = js.get( list(js.keys())[0], {} )\n",
    "    if (js1 is not None) and ( bool(js1) ):   # not nonevalue  and not empty disc\n",
    "        # first level dict\n",
    "        steam_appid = js1.get('steam_appid', {} )\n",
    "        name = js1.get('name', {} )\n",
    "        steam_appid = js1.get('steam_appid', {} )\n",
    "        required_age = js1.get('required_age', {} )\n",
    "        is_free = js1.get('is_free', {} )\n",
    "        about_the_game = js1.get('about_the_game', {} )\n",
    "        short_description = js1.get('short_description', {} )\n",
    "        supported_languages = js1.get('supported_languages', {} )\n",
    "        header_image = js1.get('header_image', {} )\n",
    "        language = js1.get(\"supported_languages\", {})\n",
    "\n",
    "        # second level dict\n",
    "        currency = js1.get(\"price_overview\", {}).get('currency')\n",
    "        price = js1.get(\"price_overview\", {}).get('final')\n",
    "        discount = js1.get(\"price_overview\", {}).get('discount_percent')\n",
    "\n",
    "        metacritic = js1.get(\"metacritic\", {}).get('score')\n",
    "#        description = js1.get(\"genres\", {})   \n",
    "        if ( len(js1.get(\"genres\", {})) >0 ):\n",
    "            genres = list( map( lambda x : x.get( 'description' ) ,js1.get(\"genres\", {}) )  )\n",
    "        else:\n",
    "            genres = {}\n",
    "            \n",
    "        recommendations = js1.get(\"recommendations\", {}).get('total')\n",
    "        achievements = js1.get(\"achievements\", {}).get('total')\n",
    "        release_date = js1.get(\"release_date\", {}).get('date')\n",
    "        url = js1.get(\"support_info\", {}).get('url')\n",
    "#        content_descriptors = js1.get(\"content_descriptors\", {}).get('notes') \n",
    "        windows_support = js1.get(\"platforms\", {}).get(\"windows\")\n",
    "        mac_support = js1.get(\"platforms\", {}).get(\"mac\")\n",
    "        linux_support = js1.get(\"platforms\", {}).get(\"linux\")\n",
    "\n",
    "        str_dict[\"currency\"].update( {steam_appid: currency} )\n",
    "        str_dict[\"price\"].update( {steam_appid: price} )\n",
    "        str_dict[\"discount\"].update( {steam_appid: discount} )\n",
    "        str_dict[\"language\"].update( {steam_appid: language} )\n",
    "        str_dict[\"metacritic\"].update( {steam_appid: metacritic} )\n",
    "        str_dict[\"recommendations\"].update( {steam_appid: recommendations} )\n",
    "        str_dict[\"achievements\"].update( {steam_appid: achievements} )\n",
    "        str_dict[\"release_date\"].update( {steam_appid: release_date} )\n",
    "        str_dict[\"url\"].update( {steam_appid: url} )\n",
    "#        str_dict[\"content_descriptors\"].update( {steam_appid: content_descriptors} )\n",
    "        str_dict[\"genres\"].update( {steam_appid: genres} )    \n",
    "        str_dict[\"short_description\"].update( {steam_appid: short_description} )\n",
    "\n",
    "        str_dict[\"name\"].update( {steam_appid: name} )\n",
    "        str_dict[\"steam_appid\"].update( {steam_appid: steam_appid} )\n",
    "        str_dict[\"required_age\"].update( {steam_appid: required_age} )\n",
    "        str_dict[\"is_free\"].update( {steam_appid: is_free} )\n",
    "        str_dict[\"about_the_game\"].update( {steam_appid: about_the_game} )\n",
    "        str_dict[\"header_image\"].update( {steam_appid: header_image} )\n",
    "        str_dict[\"windows_support\"].update( {steam_appid: windows_support} )\n",
    "        str_dict[\"mac_support\"].update( {steam_appid: mac_support} )\n",
    "        str_dict[\"linux_support\"].update( {steam_appid: linux_support} )\n",
    "\n",
    "        show_work_status(1, total_count, current_count)\n",
    "\n",
    "        current_count += 1\n",
    "    "
   ]
  },
  {
   "cell_type": "code",
   "execution_count": 21,
   "metadata": {},
   "outputs": [],
   "source": [
    "app_df = pd.DataFrame.from_dict(str_dict)\n",
    "app_df.to_csv( r'data\\app_df.csv' , header = True )"
   ]
  }
 ],
 "metadata": {
  "kernelspec": {
   "display_name": "Python 3",
   "language": "python",
   "name": "python3"
  },
  "language_info": {
   "codemirror_mode": {
    "name": "ipython",
    "version": 3
   },
   "file_extension": ".py",
   "mimetype": "text/x-python",
   "name": "python",
   "nbconvert_exporter": "python",
   "pygments_lexer": "ipython3",
   "version": "3.7.3"
  }
 },
 "nbformat": 4,
 "nbformat_minor": 2
}
